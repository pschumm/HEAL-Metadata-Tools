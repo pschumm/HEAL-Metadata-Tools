{
 "cells": [
  {
   "cell_type": "markdown",
   "id": "2d2b7228-6fdc-40df-a657-5cf7f59aaed1",
   "metadata": {},
   "source": [
    "# Track HEAL Platform Study Registration"
   ]
  },
  {
   "cell_type": "code",
   "execution_count": 1,
   "id": "ce117d7d-2316-49f2-9558-c0c9c11dacbc",
   "metadata": {},
   "outputs": [],
   "source": [
    "import pandas as pd\n",
    "import altair as alt\n",
    "alt.renderers.enable('svg')\n",
    "from functions import get_slmd\n",
    "import warnings\n",
    "warnings.simplefilter(action='ignore', category=FutureWarning)"
   ]
  },
  {
   "cell_type": "markdown",
   "id": "7db5257a-8ba1-41ee-80a2-9c91e2858657",
   "metadata": {},
   "source": [
    "Start by getting study data from MDS."
   ]
  },
  {
   "cell_type": "code",
   "execution_count": 2,
   "id": "6016ad2b-3d2e-4950-a7f0-5b7eed38bb75",
   "metadata": {
    "tags": []
   },
   "outputs": [],
   "source": [
    "df = get_slmd()"
   ]
  },
  {
   "cell_type": "markdown",
   "id": "388ba9af-5775-44bf-8f1d-da956cf30ecb",
   "metadata": {},
   "source": [
    "Calculate and plot cumulative number registered."
   ]
  },
  {
   "cell_type": "code",
   "execution_count": 3,
   "id": "6db1b5e6-4ac1-4579-bbd5-44c4c92dcf81",
   "metadata": {},
   "outputs": [],
   "source": [
    "df['Date registered'] = pd.to_datetime(df['gen3_discovery.time_of_registration'], utc=True).dt.date.astype('str')\n",
    "cumsum = df.groupby('Date registered').size().cumsum().to_frame(name='Number registered').reset_index()"
   ]
  },
  {
   "cell_type": "code",
   "execution_count": 4,
   "id": "05bba283-c3fd-451c-b925-b25c364e17e5",
   "metadata": {},
   "outputs": [
    {
     "data": {
      "image/svg+xml": [
       "<svg xmlns=\"http://www.w3.org/2000/svg\" xmlns:xlink=\"http://www.w3.org/1999/xlink\" version=\"1.1\" class=\"marks\" width=\"551\" height=\"359\" viewBox=\"0 0 551 359\"><rect width=\"551\" height=\"359\" fill=\"white\"/><g fill=\"none\" stroke-miterlimit=\"10\" transform=\"translate(44,22)\"><g class=\"mark-group role-frame root\" role=\"graphics-object\" aria-roledescription=\"group mark container\"><g transform=\"translate(0,0)\"><path class=\"background\" aria-hidden=\"true\" d=\"M0.5,0.5h500v300h-500Z\" stroke=\"#ddd\"/><g><g class=\"mark-group role-axis\" aria-hidden=\"true\"><g transform=\"translate(0.5,300.5)\"><path class=\"background\" aria-hidden=\"true\" d=\"M0,0h0v0h0Z\" pointer-events=\"none\"/><g><g class=\"mark-rule role-axis-grid\" pointer-events=\"none\"><line transform=\"translate(8,-300)\" x2=\"0\" y2=\"300\" stroke=\"#ddd\" stroke-width=\"1\" opacity=\"1\"/><line transform=\"translate(48,-300)\" x2=\"0\" y2=\"300\" stroke=\"#ddd\" stroke-width=\"1\" opacity=\"1\"/><line transform=\"translate(86,-300)\" x2=\"0\" y2=\"300\" stroke=\"#ddd\" stroke-width=\"1\" opacity=\"1\"/><line transform=\"translate(126,-300)\" x2=\"0\" y2=\"300\" stroke=\"#ddd\" stroke-width=\"1\" opacity=\"1\"/><line transform=\"translate(164,-300)\" x2=\"0\" y2=\"300\" stroke=\"#ddd\" stroke-width=\"1\" opacity=\"1\"/><line transform=\"translate(204,-300)\" x2=\"0\" y2=\"300\" stroke=\"#ddd\" stroke-width=\"1\" opacity=\"1\"/><line transform=\"translate(243,-300)\" x2=\"0\" y2=\"300\" stroke=\"#ddd\" stroke-width=\"1\" opacity=\"1\"/><line transform=\"translate(279,-300)\" x2=\"0\" y2=\"300\" stroke=\"#ddd\" stroke-width=\"1\" opacity=\"1\"/><line transform=\"translate(319,-300)\" x2=\"0\" y2=\"300\" stroke=\"#ddd\" stroke-width=\"1\" opacity=\"1\"/><line transform=\"translate(357,-300)\" x2=\"0\" y2=\"300\" stroke=\"#ddd\" stroke-width=\"1\" opacity=\"1\"/><line transform=\"translate(397,-300)\" x2=\"0\" y2=\"300\" stroke=\"#ddd\" stroke-width=\"1\" opacity=\"1\"/><line transform=\"translate(435,-300)\" x2=\"0\" y2=\"300\" stroke=\"#ddd\" stroke-width=\"1\" opacity=\"1\"/><line transform=\"translate(475,-300)\" x2=\"0\" y2=\"300\" stroke=\"#ddd\" stroke-width=\"1\" opacity=\"1\"/></g></g><path class=\"foreground\" aria-hidden=\"true\" d=\"\" pointer-events=\"none\" display=\"none\"/></g></g><g class=\"mark-group role-axis\" aria-hidden=\"true\"><g transform=\"translate(0.5,0.5)\"><path class=\"background\" aria-hidden=\"true\" d=\"M0,0h0v0h0Z\" pointer-events=\"none\"/><g><g class=\"mark-rule role-axis-grid\" pointer-events=\"none\"><line transform=\"translate(0,300)\" x2=\"500\" y2=\"0\" stroke=\"#ddd\" stroke-width=\"1\" opacity=\"1\"/><line transform=\"translate(0,242)\" x2=\"500\" y2=\"0\" stroke=\"#ddd\" stroke-width=\"1\" opacity=\"1\"/><line transform=\"translate(0,185)\" x2=\"500\" y2=\"0\" stroke=\"#ddd\" stroke-width=\"1\" opacity=\"1\"/><line transform=\"translate(0,127)\" x2=\"500\" y2=\"0\" stroke=\"#ddd\" stroke-width=\"1\" opacity=\"1\"/><line transform=\"translate(0,69)\" x2=\"500\" y2=\"0\" stroke=\"#ddd\" stroke-width=\"1\" opacity=\"1\"/><line transform=\"translate(0,12)\" x2=\"500\" y2=\"0\" stroke=\"#ddd\" stroke-width=\"1\" opacity=\"1\"/></g></g><path class=\"foreground\" aria-hidden=\"true\" d=\"\" pointer-events=\"none\" display=\"none\"/></g></g><g class=\"mark-group role-axis\" role=\"graphics-symbol\" aria-roledescription=\"axis\" aria-label=\"X-axis titled 'Date registered' for a time scale with values from July 2022 to August 2023\"><g transform=\"translate(0.5,300.5)\"><path class=\"background\" aria-hidden=\"true\" d=\"M0,0h0v0h0Z\" pointer-events=\"none\"/><g><g class=\"mark-rule role-axis-tick\" pointer-events=\"none\"><line transform=\"translate(8,0)\" x2=\"0\" y2=\"5\" stroke=\"#888\" stroke-width=\"1\" opacity=\"1\"/><line transform=\"translate(48,0)\" x2=\"0\" y2=\"5\" stroke=\"#888\" stroke-width=\"1\" opacity=\"1\"/><line transform=\"translate(86,0)\" x2=\"0\" y2=\"5\" stroke=\"#888\" stroke-width=\"1\" opacity=\"1\"/><line transform=\"translate(126,0)\" x2=\"0\" y2=\"5\" stroke=\"#888\" stroke-width=\"1\" opacity=\"1\"/><line transform=\"translate(164,0)\" x2=\"0\" y2=\"5\" stroke=\"#888\" stroke-width=\"1\" opacity=\"1\"/><line transform=\"translate(204,0)\" x2=\"0\" y2=\"5\" stroke=\"#888\" stroke-width=\"1\" opacity=\"1\"/><line transform=\"translate(243,0)\" x2=\"0\" y2=\"5\" stroke=\"#888\" stroke-width=\"1\" opacity=\"1\"/><line transform=\"translate(279,0)\" x2=\"0\" y2=\"5\" stroke=\"#888\" stroke-width=\"1\" opacity=\"1\"/><line transform=\"translate(319,0)\" x2=\"0\" y2=\"5\" stroke=\"#888\" stroke-width=\"1\" opacity=\"1\"/><line transform=\"translate(357,0)\" x2=\"0\" y2=\"5\" stroke=\"#888\" stroke-width=\"1\" opacity=\"1\"/><line transform=\"translate(397,0)\" x2=\"0\" y2=\"5\" stroke=\"#888\" stroke-width=\"1\" opacity=\"1\"/><line transform=\"translate(435,0)\" x2=\"0\" y2=\"5\" stroke=\"#888\" stroke-width=\"1\" opacity=\"1\"/><line transform=\"translate(475,0)\" x2=\"0\" y2=\"5\" stroke=\"#888\" stroke-width=\"1\" opacity=\"1\"/></g><g class=\"mark-text role-axis-label\" pointer-events=\"none\"><text text-anchor=\"middle\" transform=\"translate(7.939045183290708,15)\" font-family=\"sans-serif\" font-size=\"10px\" fill=\"#000\" opacity=\"1\">Aug 2022</text><text text-anchor=\"middle\" transform=\"translate(47.58098891730606,15)\" font-family=\"sans-serif\" font-size=\"10px\" fill=\"#000\" opacity=\"0\">Sep 2022</text><text text-anchor=\"middle\" transform=\"translate(85.94416027280477,15)\" font-family=\"sans-serif\" font-size=\"10px\" fill=\"#000\" opacity=\"1\">Oct 2022</text><text text-anchor=\"middle\" transform=\"translate(125.58610400682014,15)\" font-family=\"sans-serif\" font-size=\"10px\" fill=\"#000\" opacity=\"0\">Nov 2022</text><text text-anchor=\"middle\" transform=\"translate(164.00255754475702,15)\" font-family=\"sans-serif\" font-size=\"10px\" fill=\"#000\" opacity=\"1\">Dec 2022</text><text text-anchor=\"middle\" transform=\"translate(203.64450127877237,15)\" font-family=\"sans-serif\" font-size=\"10px\" fill=\"#000\" opacity=\"0\">Jan 2023</text><text text-anchor=\"middle\" transform=\"translate(243.28644501278774,15)\" font-family=\"sans-serif\" font-size=\"10px\" fill=\"#000\" opacity=\"1\">Feb 2023</text><text text-anchor=\"middle\" transform=\"translate(279.09207161125323,15)\" font-family=\"sans-serif\" font-size=\"10px\" fill=\"#000\" opacity=\"0\">Mar 2023</text><text text-anchor=\"middle\" transform=\"translate(318.68073316283034,15)\" font-family=\"sans-serif\" font-size=\"10px\" fill=\"#000\" opacity=\"1\">Apr 2023</text><text text-anchor=\"middle\" transform=\"translate(357.04390451832904,15)\" font-family=\"sans-serif\" font-size=\"10px\" fill=\"#000\" opacity=\"0\">May 2023</text><text text-anchor=\"middle\" transform=\"translate(396.68584825234444,15)\" font-family=\"sans-serif\" font-size=\"10px\" fill=\"#000\" opacity=\"1\">Jun 2023</text><text text-anchor=\"middle\" transform=\"translate(435.04901960784315,15)\" font-family=\"sans-serif\" font-size=\"10px\" fill=\"#000\" opacity=\"0\">Jul 2023</text><text text-anchor=\"middle\" transform=\"translate(474.6909633418585,15)\" font-family=\"sans-serif\" font-size=\"10px\" fill=\"#000\" opacity=\"1\">Aug 2023</text></g><g class=\"mark-rule role-axis-domain\" pointer-events=\"none\"><line transform=\"translate(0,0)\" x2=\"500\" y2=\"0\" stroke=\"#888\" stroke-width=\"1\" opacity=\"1\"/></g><g class=\"mark-text role-axis-title\" pointer-events=\"none\"><text text-anchor=\"middle\" transform=\"translate(250,30)\" font-family=\"sans-serif\" font-size=\"11px\" font-weight=\"bold\" fill=\"#000\" opacity=\"1\">Date registered</text></g></g><path class=\"foreground\" aria-hidden=\"true\" d=\"\" pointer-events=\"none\" display=\"none\"/></g></g><g class=\"mark-group role-axis\" role=\"graphics-symbol\" aria-roledescription=\"axis\" aria-label=\"Y-axis titled 'Number registered' for a linear scale with values from 0 to 260\"><g transform=\"translate(0.5,0.5)\"><path class=\"background\" aria-hidden=\"true\" d=\"M0,0h0v0h0Z\" pointer-events=\"none\"/><g><g class=\"mark-rule role-axis-tick\" pointer-events=\"none\"><line transform=\"translate(0,300)\" x2=\"-5\" y2=\"0\" stroke=\"#888\" stroke-width=\"1\" opacity=\"1\"/><line transform=\"translate(0,242)\" x2=\"-5\" y2=\"0\" stroke=\"#888\" stroke-width=\"1\" opacity=\"1\"/><line transform=\"translate(0,185)\" x2=\"-5\" y2=\"0\" stroke=\"#888\" stroke-width=\"1\" opacity=\"1\"/><line transform=\"translate(0,127)\" x2=\"-5\" y2=\"0\" stroke=\"#888\" stroke-width=\"1\" opacity=\"1\"/><line transform=\"translate(0,69)\" x2=\"-5\" y2=\"0\" stroke=\"#888\" stroke-width=\"1\" opacity=\"1\"/><line transform=\"translate(0,12)\" x2=\"-5\" y2=\"0\" stroke=\"#888\" stroke-width=\"1\" opacity=\"1\"/></g><g class=\"mark-text role-axis-label\" pointer-events=\"none\"><text text-anchor=\"end\" transform=\"translate(-7,303)\" font-family=\"sans-serif\" font-size=\"10px\" fill=\"#000\" opacity=\"1\">0</text><text text-anchor=\"end\" transform=\"translate(-7,245.30769230769232)\" font-family=\"sans-serif\" font-size=\"10px\" fill=\"#000\" opacity=\"1\">50</text><text text-anchor=\"end\" transform=\"translate(-7,187.6153846153846)\" font-family=\"sans-serif\" font-size=\"10px\" fill=\"#000\" opacity=\"1\">100</text><text text-anchor=\"end\" transform=\"translate(-7,129.92307692307693)\" font-family=\"sans-serif\" font-size=\"10px\" fill=\"#000\" opacity=\"1\">150</text><text text-anchor=\"end\" transform=\"translate(-7,72.23076923076921)\" font-family=\"sans-serif\" font-size=\"10px\" fill=\"#000\" opacity=\"1\">200</text><text text-anchor=\"end\" transform=\"translate(-7,14.538461538461531)\" font-family=\"sans-serif\" font-size=\"10px\" fill=\"#000\" opacity=\"1\">250</text></g><g class=\"mark-rule role-axis-domain\" pointer-events=\"none\"><line transform=\"translate(0,300)\" x2=\"0\" y2=\"-300\" stroke=\"#888\" stroke-width=\"1\" opacity=\"1\"/></g><g class=\"mark-text role-axis-title\" pointer-events=\"none\"><text text-anchor=\"middle\" transform=\"translate(-27.6845703125,150) rotate(-90) translate(0,-2)\" font-family=\"sans-serif\" font-size=\"11px\" font-weight=\"bold\" fill=\"#000\" opacity=\"1\">Number registered</text></g></g><path class=\"foreground\" aria-hidden=\"true\" d=\"\" pointer-events=\"none\" display=\"none\"/></g></g><g class=\"mark-line role-mark marks\" role=\"graphics-object\" aria-roledescription=\"line mark container\"><path aria-label=\"Date registered:  0NaN; Number registered: 251\" role=\"graphics-symbol\" aria-roledescription=\"line mark\" d=\"M0,295.385L1.279,289.615L2.558,282.692L7.673,280.385L8.951,279.231L10.23,276.923L11.509,275.769L12.788,272.308L16.624,268.846L17.903,265.385L19.182,263.077L20.46,260.769L21.739,259.615L25.575,258.462L26.854,257.308L28.133,256.154L29.412,253.846L30.691,252.692L34.527,250.385L37.084,249.231L38.363,245.769L39.642,241.154L43.478,237.692L44.757,236.538L46.036,235.385L47.315,234.231L48.593,233.077L54.987,231.923L58.824,230.769L61.381,228.462L62.66,223.846L63.939,222.692L80.563,221.538L84.399,220.385L88.235,215.769L102.302,214.615L109.974,212.308L115.09,211.154L116.368,208.846L118.926,207.692L136.829,206.538L138.107,205.385L139.386,204.231L141.944,203.077L143.223,193.846L145.78,192.692L147.059,190.385L152.174,189.231L159.847,188.077L161.125,186.923L163.683,184.615L170.077,183.462L171.355,180L172.634,171.923L177.749,170.769L179.028,169.615L182.864,167.308L187.98,166.154L189.258,165L190.537,163.846L196.931,162.692L207.161,161.538L208.44,152.308L216.113,150L217.391,148.846L218.67,145.385L222.506,143.077L226.343,133.846L232.737,131.538L234.015,121.154L235.294,118.846L240.409,117.692L241.688,116.538L244.246,115.385L250.639,114.231L258.312,111.923L259.591,110.769L260.87,108.462L268.542,96.923L269.821,64.615L271.1,60L276.215,58.846L277.494,57.692L295.396,56.538L299.233,55.385L306.905,54.231L317.136,53.077L322.251,51.923L326.087,49.615L356.777,48.462L365.729,47.308L367.008,46.154L378.517,45L383.632,43.846L384.91,42.692L388.747,41.538L395.141,40.385L410.486,39.231L411.765,38.077L423.274,36.923L428.389,35.769L430.946,33.462L437.34,32.308L441.176,31.154L446.292,28.846L459.079,27.692L460.358,26.538L464.194,25.385L469.309,24.231L474.425,23.077L492.327,20.769L494.885,19.615L500,16.154\" stroke=\"#4c78a8\" stroke-width=\"2\"/></g><g class=\"mark-group role-title\"><g transform=\"translate(250,-17)\"><path class=\"background\" aria-hidden=\"true\" d=\"M0,0h0v0h0Z\" pointer-events=\"none\"/><g><g class=\"mark-text role-title-text\" role=\"graphics-symbol\" aria-roledescription=\"title\" aria-label=\"Title text 'Cumulative number of studies registered on HEAL Data Platform'\" pointer-events=\"none\"><text text-anchor=\"middle\" transform=\"translate(0,10)\" font-family=\"sans-serif\" font-size=\"13px\" font-weight=\"bold\" fill=\"#000\" opacity=\"1\">Cumulative number of studies registered on HEAL Data Platform</text></g></g><path class=\"foreground\" aria-hidden=\"true\" d=\"\" pointer-events=\"none\" display=\"none\"/></g></g></g><path class=\"foreground\" aria-hidden=\"true\" d=\"\" display=\"none\"/></g></g></g></svg>"
      ],
      "text/plain": [
       "alt.Chart(...)"
      ]
     },
     "execution_count": 4,
     "metadata": {},
     "output_type": "execute_result"
    }
   ],
   "source": [
    "alt.Chart(cumsum).mark_line().encode(\n",
    "    y='Number registered',\n",
    "    x=alt.X('Date registered:T', axis=alt.Axis(format='%b %Y'))\n",
    ").properties(\n",
    "    height=300,\n",
    "    width=500,\n",
    "    title='Cumulative number of studies registered on HEAL Data Platform'\n",
    ")"
   ]
  }
 ],
 "metadata": {
  "kernelspec": {
   "display_name": "Python 3 (ipykernel)",
   "language": "python",
   "name": "python3"
  },
  "language_info": {
   "codemirror_mode": {
    "name": "ipython",
    "version": 3
   },
   "file_extension": ".py",
   "mimetype": "text/x-python",
   "name": "python",
   "nbconvert_exporter": "python",
   "pygments_lexer": "ipython3",
   "version": "3.11.3"
  }
 },
 "nbformat": 4,
 "nbformat_minor": 5
}
