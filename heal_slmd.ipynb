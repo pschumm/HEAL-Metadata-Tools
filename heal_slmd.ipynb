{
 "cells": [
  {
   "cell_type": "markdown",
   "id": "2d2b7228-6fdc-40df-a657-5cf7f59aaed1",
   "metadata": {},
   "source": [
    "# Retrieve and Inspect Study Level Metadata from HEAL Platform"
   ]
  },
  {
   "cell_type": "code",
   "execution_count": 1,
   "id": "ce117d7d-2316-49f2-9558-c0c9c11dacbc",
   "metadata": {},
   "outputs": [],
   "source": [
    "import numpy as np\n",
    "import pandas as pd\n",
    "import altair as alt\n",
    "alt.renderers.enable('svg')\n",
    "from functions import get_slmd, get_heal_slmd_fields"
   ]
  },
  {
   "cell_type": "markdown",
   "id": "7db5257a-8ba1-41ee-80a2-9c91e2858657",
   "metadata": {},
   "source": [
    "Start with data frame containing all HEAL SLMD fields that currently appear in CEDAR."
   ]
  },
  {
   "cell_type": "code",
   "execution_count": 2,
   "id": "6016ad2b-3d2e-4950-a7f0-5b7eed38bb75",
   "metadata": {
    "tags": []
   },
   "outputs": [],
   "source": [
    "df = get_slmd()\n",
    "not_in_cedar = [c for c in df.columns.values.tolist() if\n",
    "                c.split('.')[0] in ['citation','contacts_and_registrants','findings']]\n",
    "heal_slmd = (df\n",
    "    .loc[:,get_heal_slmd_fields()]\n",
    "    .drop(columns=not_in_cedar)\n",
    "    .applymap(lambda x: np.nan if not x else x)\n",
    ")"
   ]
  },
  {
   "cell_type": "markdown",
   "id": "cbcce1d7-486d-40a8-89ae-71452944cf68",
   "metadata": {},
   "source": [
    "Identify and remove those columns which are prefilled (i.e., never missing)."
   ]
  },
  {
   "cell_type": "code",
   "execution_count": 3,
   "id": "e0e25759-ddb6-4280-b4c8-0135657b6936",
   "metadata": {},
   "outputs": [
    {
     "data": {
      "text/plain": [
       "['minimal_info.study_name',\n",
       " 'metadata_location.nih_application_id',\n",
       " 'metadata_location.cedar_study_level_metadata_template_instance_ID']"
      ]
     },
     "execution_count": 3,
     "metadata": {},
     "output_type": "execute_result"
    }
   ],
   "source": [
    "prefilled = heal_slmd.columns[heal_slmd.isna().any() == False].values.tolist()\n",
    "prefilled"
   ]
  },
  {
   "cell_type": "code",
   "execution_count": 4,
   "id": "49a8663d-029e-4c57-8bd4-73282c07e4f0",
   "metadata": {},
   "outputs": [
    {
     "data": {
      "text/plain": [
       "(228, 52)"
      ]
     },
     "execution_count": 4,
     "metadata": {},
     "output_type": "execute_result"
    }
   ],
   "source": [
    "heal_slmd = heal_slmd.drop(columns=prefilled)\n",
    "heal_slmd.shape"
   ]
  },
  {
   "cell_type": "markdown",
   "id": "c7656d83-da5d-400e-845b-6e5dd9baa682",
   "metadata": {},
   "source": [
    "Now, examine distribution of the number of completed fields."
   ]
  },
  {
   "cell_type": "code",
   "execution_count": 5,
   "id": "999fa171-6c46-409b-ad2a-77098b71a88f",
   "metadata": {},
   "outputs": [
    {
     "data": {
      "text/plain": [
       "count    228.000000\n",
       "mean      12.416667\n",
       "std       12.823336\n",
       "min        1.000000\n",
       "25%        2.000000\n",
       "50%        9.000000\n",
       "75%       19.000000\n",
       "max       44.000000\n",
       "dtype: float64"
      ]
     },
     "execution_count": 5,
     "metadata": {},
     "output_type": "execute_result"
    }
   ],
   "source": [
    "completed = heal_slmd.notna().sum(axis=1)\n",
    "completed.describe()"
   ]
  },
  {
   "cell_type": "code",
   "execution_count": 6,
   "id": "05bba283-c3fd-451c-b925-b25c364e17e5",
   "metadata": {},
   "outputs": [
    {
     "data": {
      "image/svg+xml": [
       "<svg xmlns=\"http://www.w3.org/2000/svg\" xmlns:xlink=\"http://www.w3.org/1999/xlink\" version=\"1.1\" class=\"marks\" width=\"628\" height=\"347\" viewBox=\"0 0 628 347\"><rect width=\"628\" height=\"347\" fill=\"white\"/><g fill=\"none\" stroke-miterlimit=\"10\" transform=\"translate(39,10)\"><g class=\"mark-group role-frame root\" role=\"graphics-object\" aria-roledescription=\"group mark container\"><g transform=\"translate(0,0)\"><path class=\"background\" aria-hidden=\"true\" d=\"M0.5,0.5h500v300h-500Z\" stroke=\"#ddd\"/><g><g class=\"mark-group role-axis\" aria-hidden=\"true\"><g transform=\"translate(0.5,300.5)\"><path class=\"background\" aria-hidden=\"true\" d=\"M0,0h0v0h0Z\" pointer-events=\"none\"/><g><g class=\"mark-rule role-axis-grid\" pointer-events=\"none\"><line transform=\"translate(5,-300)\" x2=\"0\" y2=\"300\" stroke=\"#ddd\" stroke-width=\"1\" opacity=\"1\"/><line transform=\"translate(52,-300)\" x2=\"0\" y2=\"300\" stroke=\"#ddd\" stroke-width=\"1\" opacity=\"1\"/><line transform=\"translate(99,-300)\" x2=\"0\" y2=\"300\" stroke=\"#ddd\" stroke-width=\"1\" opacity=\"1\"/><line transform=\"translate(146,-300)\" x2=\"0\" y2=\"300\" stroke=\"#ddd\" stroke-width=\"1\" opacity=\"1\"/><line transform=\"translate(193,-300)\" x2=\"0\" y2=\"300\" stroke=\"#ddd\" stroke-width=\"1\" opacity=\"1\"/><line transform=\"translate(241,-300)\" x2=\"0\" y2=\"300\" stroke=\"#ddd\" stroke-width=\"1\" opacity=\"1\"/><line transform=\"translate(288,-300)\" x2=\"0\" y2=\"300\" stroke=\"#ddd\" stroke-width=\"1\" opacity=\"1\"/><line transform=\"translate(335,-300)\" x2=\"0\" y2=\"300\" stroke=\"#ddd\" stroke-width=\"1\" opacity=\"1\"/><line transform=\"translate(382,-300)\" x2=\"0\" y2=\"300\" stroke=\"#ddd\" stroke-width=\"1\" opacity=\"1\"/><line transform=\"translate(429,-300)\" x2=\"0\" y2=\"300\" stroke=\"#ddd\" stroke-width=\"1\" opacity=\"1\"/><line transform=\"translate(476,-300)\" x2=\"0\" y2=\"300\" stroke=\"#ddd\" stroke-width=\"1\" opacity=\"1\"/></g></g><path class=\"foreground\" aria-hidden=\"true\" d=\"\" pointer-events=\"none\" display=\"none\"/></g></g><g class=\"mark-group role-axis\" aria-hidden=\"true\"><g transform=\"translate(0.5,0.5)\"><path class=\"background\" aria-hidden=\"true\" d=\"M0,0h0v0h0Z\" pointer-events=\"none\"/><g><g class=\"mark-rule role-axis-grid\" pointer-events=\"none\"><line transform=\"translate(0,300)\" x2=\"500\" y2=\"0\" stroke=\"#ddd\" stroke-width=\"1\" opacity=\"1\"/><line transform=\"translate(0,267)\" x2=\"500\" y2=\"0\" stroke=\"#ddd\" stroke-width=\"1\" opacity=\"1\"/><line transform=\"translate(0,233)\" x2=\"500\" y2=\"0\" stroke=\"#ddd\" stroke-width=\"1\" opacity=\"1\"/><line transform=\"translate(0,200)\" x2=\"500\" y2=\"0\" stroke=\"#ddd\" stroke-width=\"1\" opacity=\"1\"/><line transform=\"translate(0,167)\" x2=\"500\" y2=\"0\" stroke=\"#ddd\" stroke-width=\"1\" opacity=\"1\"/><line transform=\"translate(0,133)\" x2=\"500\" y2=\"0\" stroke=\"#ddd\" stroke-width=\"1\" opacity=\"1\"/><line transform=\"translate(0,100)\" x2=\"500\" y2=\"0\" stroke=\"#ddd\" stroke-width=\"1\" opacity=\"1\"/><line transform=\"translate(0,67)\" x2=\"500\" y2=\"0\" stroke=\"#ddd\" stroke-width=\"1\" opacity=\"1\"/><line transform=\"translate(0,33)\" x2=\"500\" y2=\"0\" stroke=\"#ddd\" stroke-width=\"1\" opacity=\"1\"/><line transform=\"translate(0,0)\" x2=\"500\" y2=\"0\" stroke=\"#ddd\" stroke-width=\"1\" opacity=\"1\"/></g></g><path class=\"foreground\" aria-hidden=\"true\" d=\"\" pointer-events=\"none\" display=\"none\"/></g></g><g class=\"mark-group role-axis\" role=\"graphics-symbol\" aria-roledescription=\"axis\" aria-label=\"X-axis titled 'Completed fields' for a linear scale with values from −1 to 53\"><g transform=\"translate(0.5,300.5)\"><path class=\"background\" aria-hidden=\"true\" d=\"M0,0h0v0h0Z\" pointer-events=\"none\"/><g><g class=\"mark-rule role-axis-tick\" pointer-events=\"none\"><line transform=\"translate(5,0)\" x2=\"0\" y2=\"5\" stroke=\"#888\" stroke-width=\"1\" opacity=\"1\"/><line transform=\"translate(52,0)\" x2=\"0\" y2=\"5\" stroke=\"#888\" stroke-width=\"1\" opacity=\"1\"/><line transform=\"translate(99,0)\" x2=\"0\" y2=\"5\" stroke=\"#888\" stroke-width=\"1\" opacity=\"1\"/><line transform=\"translate(146,0)\" x2=\"0\" y2=\"5\" stroke=\"#888\" stroke-width=\"1\" opacity=\"1\"/><line transform=\"translate(193,0)\" x2=\"0\" y2=\"5\" stroke=\"#888\" stroke-width=\"1\" opacity=\"1\"/><line transform=\"translate(241,0)\" x2=\"0\" y2=\"5\" stroke=\"#888\" stroke-width=\"1\" opacity=\"1\"/><line transform=\"translate(288,0)\" x2=\"0\" y2=\"5\" stroke=\"#888\" stroke-width=\"1\" opacity=\"1\"/><line transform=\"translate(335,0)\" x2=\"0\" y2=\"5\" stroke=\"#888\" stroke-width=\"1\" opacity=\"1\"/><line transform=\"translate(382,0)\" x2=\"0\" y2=\"5\" stroke=\"#888\" stroke-width=\"1\" opacity=\"1\"/><line transform=\"translate(429,0)\" x2=\"0\" y2=\"5\" stroke=\"#888\" stroke-width=\"1\" opacity=\"1\"/><line transform=\"translate(476,0)\" x2=\"0\" y2=\"5\" stroke=\"#888\" stroke-width=\"1\" opacity=\"1\"/></g><g class=\"mark-text role-axis-label\" pointer-events=\"none\"><text text-anchor=\"middle\" transform=\"translate(5.000000000000001,15)\" font-family=\"sans-serif\" font-size=\"10px\" fill=\"#000\" opacity=\"1\">0</text><text text-anchor=\"middle\" transform=\"translate(52.11538461538462,15)\" font-family=\"sans-serif\" font-size=\"10px\" fill=\"#000\" opacity=\"1\">5</text><text text-anchor=\"middle\" transform=\"translate(99.23076923076923,15)\" font-family=\"sans-serif\" font-size=\"10px\" fill=\"#000\" opacity=\"1\">10</text><text text-anchor=\"middle\" transform=\"translate(146.34615384615384,15)\" font-family=\"sans-serif\" font-size=\"10px\" fill=\"#000\" opacity=\"1\">15</text><text text-anchor=\"middle\" transform=\"translate(193.46153846153845,15)\" font-family=\"sans-serif\" font-size=\"10px\" fill=\"#000\" opacity=\"1\">20</text><text text-anchor=\"middle\" transform=\"translate(240.57692307692307,15)\" font-family=\"sans-serif\" font-size=\"10px\" fill=\"#000\" opacity=\"1\">25</text><text text-anchor=\"middle\" transform=\"translate(287.6923076923077,15)\" font-family=\"sans-serif\" font-size=\"10px\" fill=\"#000\" opacity=\"1\">30</text><text text-anchor=\"middle\" transform=\"translate(334.8076923076923,15)\" font-family=\"sans-serif\" font-size=\"10px\" fill=\"#000\" opacity=\"1\">35</text><text text-anchor=\"middle\" transform=\"translate(381.9230769230769,15)\" font-family=\"sans-serif\" font-size=\"10px\" fill=\"#000\" opacity=\"1\">40</text><text text-anchor=\"middle\" transform=\"translate(429.03846153846155,15)\" font-family=\"sans-serif\" font-size=\"10px\" fill=\"#000\" opacity=\"1\">45</text><text text-anchor=\"middle\" transform=\"translate(476.15384615384613,15)\" font-family=\"sans-serif\" font-size=\"10px\" fill=\"#000\" opacity=\"1\">50</text></g><g class=\"mark-rule role-axis-domain\" pointer-events=\"none\"><line transform=\"translate(0,0)\" x2=\"500\" y2=\"0\" stroke=\"#888\" stroke-width=\"1\" opacity=\"1\"/></g><g class=\"mark-text role-axis-title\" pointer-events=\"none\"><text text-anchor=\"middle\" transform=\"translate(250,30)\" font-family=\"sans-serif\" font-size=\"11px\" font-weight=\"bold\" fill=\"#000\" opacity=\"1\">Completed fields</text></g></g><path class=\"foreground\" aria-hidden=\"true\" d=\"\" pointer-events=\"none\" display=\"none\"/></g></g><g class=\"mark-group role-axis\" role=\"graphics-symbol\" aria-roledescription=\"axis\" aria-label=\"Y-axis titled 'Count of Records' for a linear scale with values from 0 to 90\"><g transform=\"translate(0.5,0.5)\"><path class=\"background\" aria-hidden=\"true\" d=\"M0,0h0v0h0Z\" pointer-events=\"none\"/><g><g class=\"mark-rule role-axis-tick\" pointer-events=\"none\"><line transform=\"translate(0,300)\" x2=\"-5\" y2=\"0\" stroke=\"#888\" stroke-width=\"1\" opacity=\"1\"/><line transform=\"translate(0,267)\" x2=\"-5\" y2=\"0\" stroke=\"#888\" stroke-width=\"1\" opacity=\"1\"/><line transform=\"translate(0,233)\" x2=\"-5\" y2=\"0\" stroke=\"#888\" stroke-width=\"1\" opacity=\"1\"/><line transform=\"translate(0,200)\" x2=\"-5\" y2=\"0\" stroke=\"#888\" stroke-width=\"1\" opacity=\"1\"/><line transform=\"translate(0,167)\" x2=\"-5\" y2=\"0\" stroke=\"#888\" stroke-width=\"1\" opacity=\"1\"/><line transform=\"translate(0,133)\" x2=\"-5\" y2=\"0\" stroke=\"#888\" stroke-width=\"1\" opacity=\"1\"/><line transform=\"translate(0,100)\" x2=\"-5\" y2=\"0\" stroke=\"#888\" stroke-width=\"1\" opacity=\"1\"/><line transform=\"translate(0,67)\" x2=\"-5\" y2=\"0\" stroke=\"#888\" stroke-width=\"1\" opacity=\"1\"/><line transform=\"translate(0,33)\" x2=\"-5\" y2=\"0\" stroke=\"#888\" stroke-width=\"1\" opacity=\"1\"/><line transform=\"translate(0,0)\" x2=\"-5\" y2=\"0\" stroke=\"#888\" stroke-width=\"1\" opacity=\"1\"/></g><g class=\"mark-text role-axis-label\" pointer-events=\"none\"><text text-anchor=\"end\" transform=\"translate(-7,303)\" font-family=\"sans-serif\" font-size=\"10px\" fill=\"#000\" opacity=\"1\">0</text><text text-anchor=\"end\" transform=\"translate(-7,269.66666666666663)\" font-family=\"sans-serif\" font-size=\"10px\" fill=\"#000\" opacity=\"1\">10</text><text text-anchor=\"end\" transform=\"translate(-7,236.33333333333334)\" font-family=\"sans-serif\" font-size=\"10px\" fill=\"#000\" opacity=\"1\">20</text><text text-anchor=\"end\" transform=\"translate(-7,203.00000000000003)\" font-family=\"sans-serif\" font-size=\"10px\" fill=\"#000\" opacity=\"1\">30</text><text text-anchor=\"end\" transform=\"translate(-7,169.66666666666669)\" font-family=\"sans-serif\" font-size=\"10px\" fill=\"#000\" opacity=\"1\">40</text><text text-anchor=\"end\" transform=\"translate(-7,136.33333333333331)\" font-family=\"sans-serif\" font-size=\"10px\" fill=\"#000\" opacity=\"1\">50</text><text text-anchor=\"end\" transform=\"translate(-7,103.00000000000001)\" font-family=\"sans-serif\" font-size=\"10px\" fill=\"#000\" opacity=\"1\">60</text><text text-anchor=\"end\" transform=\"translate(-7,69.66666666666666)\" font-family=\"sans-serif\" font-size=\"10px\" fill=\"#000\" opacity=\"1\">70</text><text text-anchor=\"end\" transform=\"translate(-7,36.33333333333335)\" font-family=\"sans-serif\" font-size=\"10px\" fill=\"#000\" opacity=\"1\">80</text><text text-anchor=\"end\" transform=\"translate(-7,3)\" font-family=\"sans-serif\" font-size=\"10px\" fill=\"#000\" opacity=\"1\">90</text></g><g class=\"mark-rule role-axis-domain\" pointer-events=\"none\"><line transform=\"translate(0,300)\" x2=\"0\" y2=\"-300\" stroke=\"#888\" stroke-width=\"1\" opacity=\"1\"/></g><g class=\"mark-text role-axis-title\" pointer-events=\"none\"><text text-anchor=\"middle\" transform=\"translate(-22.123046875,150) rotate(-90) translate(0,-2)\" font-family=\"sans-serif\" font-size=\"11px\" font-weight=\"bold\" fill=\"#000\" opacity=\"1\">Count of Records</text></g></g><path class=\"foreground\" aria-hidden=\"true\" d=\"\" pointer-events=\"none\" display=\"none\"/></g></g><g class=\"mark-rect role-mark layer_0_marks\" role=\"graphics-object\" aria-roledescription=\"rect mark container\"><path aria-label=\"Completed fields: 2; Count of Records: 85; NCT number: false\" role=\"graphics-symbol\" aria-roledescription=\"bar\" d=\"M21.346153846153847,16.666666666666675h5v283.3333333333333h-5Z\" fill=\"#4c78a8\"/><path aria-label=\"Completed fields: 3; Count of Records: 15; NCT number: false\" role=\"graphics-symbol\" aria-roledescription=\"bar\" d=\"M30.769230769230774,250h5v50h-5Z\" fill=\"#4c78a8\"/><path aria-label=\"Completed fields: 12; Count of Records: 2; NCT number: false\" role=\"graphics-symbol\" aria-roledescription=\"bar\" d=\"M115.57692307692308,293.3333333333333h5v6.666666666666686h-5Z\" fill=\"#4c78a8\"/><path aria-label=\"Completed fields: 20; Count of Records: 3; NCT number: false\" role=\"graphics-symbol\" aria-roledescription=\"bar\" d=\"M190.96153846153845,283.3333333333333h5v10h-5Z\" fill=\"#4c78a8\"/><path aria-label=\"Completed fields: 38; Count of Records: 2; NCT number: true\" role=\"graphics-symbol\" aria-roledescription=\"bar\" d=\"M360.5769230769231,293.3333333333333h5v6.666666666666686h-5Z\" fill=\"#f58518\"/><path aria-label=\"Completed fields: 36; Count of Records: 4; NCT number: true\" role=\"graphics-symbol\" aria-roledescription=\"bar\" d=\"M341.7307692307692,286.6666666666667h5v13.333333333333314h-5Z\" fill=\"#f58518\"/><path aria-label=\"Completed fields: 17; Count of Records: 2; NCT number: true\" role=\"graphics-symbol\" aria-roledescription=\"bar\" d=\"M162.6923076923077,293.3333333333333h5v6.666666666666686h-5Z\" fill=\"#f58518\"/><path aria-label=\"Completed fields: 23; Count of Records: 2; NCT number: false\" role=\"graphics-symbol\" aria-roledescription=\"bar\" d=\"M219.23076923076923,293.3333333333333h5v6.666666666666686h-5Z\" fill=\"#4c78a8\"/><path aria-label=\"Completed fields: 40; Count of Records: 2; NCT number: true\" role=\"graphics-symbol\" aria-roledescription=\"bar\" d=\"M379.4230769230769,293.3333333333333h5v6.666666666666686h-5Z\" fill=\"#f58518\"/><path aria-label=\"Completed fields: 9; Count of Records: 16; NCT number: true\" role=\"graphics-symbol\" aria-roledescription=\"bar\" d=\"M87.3076923076923,246.66666666666666h5v53.33333333333334h-5Z\" fill=\"#f58518\"/><path aria-label=\"Completed fields: 14; Count of Records: 3; NCT number: true\" role=\"graphics-symbol\" aria-roledescription=\"bar\" d=\"M134.42307692307693,290h5v10h-5Z\" fill=\"#f58518\"/><path aria-label=\"Completed fields: 16; Count of Records: 1; NCT number: false\" role=\"graphics-symbol\" aria-roledescription=\"bar\" d=\"M153.26923076923077,286.6666666666667h5v3.3333333333333144h-5Z\" fill=\"#4c78a8\"/><path aria-label=\"Completed fields: 15; Count of Records: 4; NCT number: true\" role=\"graphics-symbol\" aria-roledescription=\"bar\" d=\"M143.84615384615384,286.6666666666667h5v13.333333333333314h-5Z\" fill=\"#f58518\"/><path aria-label=\"Completed fields: 42; Count of Records: 2; NCT number: true\" role=\"graphics-symbol\" aria-roledescription=\"bar\" d=\"M398.2692307692308,293.3333333333333h5v6.666666666666686h-5Z\" fill=\"#f58518\"/><path aria-label=\"Completed fields: 20; Count of Records: 2; NCT number: true\" role=\"graphics-symbol\" aria-roledescription=\"bar\" d=\"M190.96153846153845,293.3333333333333h5v6.666666666666686h-5Z\" fill=\"#f58518\"/><path aria-label=\"Completed fields: 11; Count of Records: 4; NCT number: true\" role=\"graphics-symbol\" aria-roledescription=\"bar\" d=\"M106.15384615384616,286.6666666666667h5v13.333333333333314h-5Z\" fill=\"#f58518\"/><path aria-label=\"Completed fields: 43; Count of Records: 2; NCT number: true\" role=\"graphics-symbol\" aria-roledescription=\"bar\" d=\"M407.6923076923077,293.3333333333333h5v6.666666666666686h-5Z\" fill=\"#f58518\"/><path aria-label=\"Completed fields: 31; Count of Records: 2; NCT number: false\" role=\"graphics-symbol\" aria-roledescription=\"bar\" d=\"M294.61538461538464,293.3333333333333h5v6.666666666666686h-5Z\" fill=\"#4c78a8\"/><path aria-label=\"Completed fields: 16; Count of Records: 3; NCT number: true\" role=\"graphics-symbol\" aria-roledescription=\"bar\" d=\"M153.26923076923077,290h5v10h-5Z\" fill=\"#f58518\"/><path aria-label=\"Completed fields: 18; Count of Records: 5; NCT number: true\" role=\"graphics-symbol\" aria-roledescription=\"bar\" d=\"M172.1153846153846,283.3333333333333h5v16.666666666666686h-5Z\" fill=\"#f58518\"/><path aria-label=\"Completed fields: 15; Count of Records: 1; NCT number: false\" role=\"graphics-symbol\" aria-roledescription=\"bar\" d=\"M143.84615384615384,283.3333333333333h5v3.3333333333333712h-5Z\" fill=\"#4c78a8\"/><path aria-label=\"Completed fields: 19; Count of Records: 4; NCT number: true\" role=\"graphics-symbol\" aria-roledescription=\"bar\" d=\"M181.53846153846155,286.6666666666667h5v13.333333333333314h-5Z\" fill=\"#f58518\"/><path aria-label=\"Completed fields: 35; Count of Records: 1; NCT number: true\" role=\"graphics-symbol\" aria-roledescription=\"bar\" d=\"M332.3076923076923,296.6666666666667h5v3.3333333333333144h-5Z\" fill=\"#f58518\"/><path aria-label=\"Completed fields: 10; Count of Records: 12; NCT number: true\" role=\"graphics-symbol\" aria-roledescription=\"bar\" d=\"M96.73076923076923,260h5v40h-5Z\" fill=\"#f58518\"/><path aria-label=\"Completed fields: 41; Count of Records: 1; NCT number: true\" role=\"graphics-symbol\" aria-roledescription=\"bar\" d=\"M388.84615384615387,296.6666666666667h5v3.3333333333333144h-5Z\" fill=\"#f58518\"/><path aria-label=\"Completed fields: 39; Count of Records: 1; NCT number: true\" role=\"graphics-symbol\" aria-roledescription=\"bar\" d=\"M370,296.6666666666667h5v3.3333333333333144h-5Z\" fill=\"#f58518\"/><path aria-label=\"Completed fields: 32; Count of Records: 2; NCT number: false\" role=\"graphics-symbol\" aria-roledescription=\"bar\" d=\"M304.03846153846155,290h5v6.666666666666686h-5Z\" fill=\"#4c78a8\"/><path aria-label=\"Completed fields: 26; Count of Records: 2; NCT number: false\" role=\"graphics-symbol\" aria-roledescription=\"bar\" d=\"M247.5,293.3333333333333h5v6.666666666666686h-5Z\" fill=\"#4c78a8\"/><path aria-label=\"Completed fields: 37; Count of Records: 3; NCT number: true\" role=\"graphics-symbol\" aria-roledescription=\"bar\" d=\"M351.15384615384613,290h5v10h-5Z\" fill=\"#f58518\"/><path aria-label=\"Completed fields: 8; Count of Records: 3; NCT number: true\" role=\"graphics-symbol\" aria-roledescription=\"bar\" d=\"M77.88461538461539,290h5v10h-5Z\" fill=\"#f58518\"/><path aria-label=\"Completed fields: 33; Count of Records: 1; NCT number: true\" role=\"graphics-symbol\" aria-roledescription=\"bar\" d=\"M313.46153846153845,296.6666666666667h5v3.3333333333333144h-5Z\" fill=\"#f58518\"/><path aria-label=\"Completed fields: 30; Count of Records: 2; NCT number: false\" role=\"graphics-symbol\" aria-roledescription=\"bar\" d=\"M285.1923076923077,293.3333333333333h5v6.666666666666686h-5Z\" fill=\"#4c78a8\"/><path aria-label=\"Completed fields: 25; Count of Records: 2; NCT number: false\" role=\"graphics-symbol\" aria-roledescription=\"bar\" d=\"M238.07692307692307,293.3333333333333h5v6.666666666666686h-5Z\" fill=\"#4c78a8\"/><path aria-label=\"Completed fields: 8; Count of Records: 2; NCT number: false\" role=\"graphics-symbol\" aria-roledescription=\"bar\" d=\"M77.88461538461539,283.3333333333333h5v6.666666666666686h-5Z\" fill=\"#4c78a8\"/><path aria-label=\"Completed fields: 17; Count of Records: 1; NCT number: false\" role=\"graphics-symbol\" aria-roledescription=\"bar\" d=\"M162.6923076923077,290h5v3.3333333333333144h-5Z\" fill=\"#4c78a8\"/><path aria-label=\"Completed fields: 34; Count of Records: 3; NCT number: true\" role=\"graphics-symbol\" aria-roledescription=\"bar\" d=\"M322.88461538461536,290h5v10h-5Z\" fill=\"#f58518\"/><path aria-label=\"Completed fields: 24; Count of Records: 2; NCT number: false\" role=\"graphics-symbol\" aria-roledescription=\"bar\" d=\"M228.65384615384616,293.3333333333333h5v6.666666666666686h-5Z\" fill=\"#4c78a8\"/><path aria-label=\"Completed fields: 1; Count of Records: 6; NCT number: false\" role=\"graphics-symbol\" aria-roledescription=\"bar\" d=\"M11.923076923076923,280h5v20h-5Z\" fill=\"#4c78a8\"/><path aria-label=\"Completed fields: 33; Count of Records: 3; NCT number: false\" role=\"graphics-symbol\" aria-roledescription=\"bar\" d=\"M313.46153846153845,286.6666666666667h5v10h-5Z\" fill=\"#4c78a8\"/><path aria-label=\"Completed fields: 29; Count of Records: 3; NCT number: false\" role=\"graphics-symbol\" aria-roledescription=\"bar\" d=\"M275.7692307692308,290h5v10h-5Z\" fill=\"#4c78a8\"/><path aria-label=\"Completed fields: 14; Count of Records: 1; NCT number: false\" role=\"graphics-symbol\" aria-roledescription=\"bar\" d=\"M134.42307692307693,286.6666666666667h5v3.3333333333333144h-5Z\" fill=\"#4c78a8\"/><path aria-label=\"Completed fields: 28; Count of Records: 1; NCT number: false\" role=\"graphics-symbol\" aria-roledescription=\"bar\" d=\"M266.34615384615387,296.6666666666667h5v3.3333333333333144h-5Z\" fill=\"#4c78a8\"/><path aria-label=\"Completed fields: 4; Count of Records: 1; NCT number: false\" role=\"graphics-symbol\" aria-roledescription=\"bar\" d=\"M40.19230769230769,296.6666666666667h5v3.3333333333333144h-5Z\" fill=\"#4c78a8\"/><path aria-label=\"Completed fields: 37; Count of Records: 1; NCT number: false\" role=\"graphics-symbol\" aria-roledescription=\"bar\" d=\"M351.15384615384613,286.6666666666667h5v3.3333333333333144h-5Z\" fill=\"#4c78a8\"/><path aria-label=\"Completed fields: 42; Count of Records: 1; NCT number: false\" role=\"graphics-symbol\" aria-roledescription=\"bar\" d=\"M398.2692307692308,290h5v3.3333333333333144h-5Z\" fill=\"#4c78a8\"/><path aria-label=\"Completed fields: 41; Count of Records: 1; NCT number: false\" role=\"graphics-symbol\" aria-roledescription=\"bar\" d=\"M388.84615384615387,293.3333333333333h5v3.3333333333333712h-5Z\" fill=\"#4c78a8\"/><path aria-label=\"Completed fields: 32; Count of Records: 1; NCT number: true\" role=\"graphics-symbol\" aria-roledescription=\"bar\" d=\"M304.03846153846155,296.6666666666667h5v3.3333333333333144h-5Z\" fill=\"#f58518\"/><path aria-label=\"Completed fields: 35; Count of Records: 1; NCT number: false\" role=\"graphics-symbol\" aria-roledescription=\"bar\" d=\"M332.3076923076923,293.3333333333333h5v3.3333333333333712h-5Z\" fill=\"#4c78a8\"/><path aria-label=\"Completed fields: 36; Count of Records: 1; NCT number: false\" role=\"graphics-symbol\" aria-roledescription=\"bar\" d=\"M341.7307692307692,283.3333333333333h5v3.3333333333333712h-5Z\" fill=\"#4c78a8\"/><path aria-label=\"Completed fields: 44; Count of Records: 1; NCT number: true\" role=\"graphics-symbol\" aria-roledescription=\"bar\" d=\"M417.1153846153846,296.6666666666667h5v3.3333333333333144h-5Z\" fill=\"#f58518\"/><path aria-label=\"Completed fields: 7; Count of Records: 1; NCT number: false\" role=\"graphics-symbol\" aria-roledescription=\"bar\" d=\"M68.46153846153847,296.6666666666667h5v3.3333333333333144h-5Z\" fill=\"#4c78a8\"/><path aria-label=\"Completed fields: 21; Count of Records: 1; NCT number: false\" role=\"graphics-symbol\" aria-roledescription=\"bar\" d=\"M200.3846153846154,296.6666666666667h5v3.3333333333333144h-5Z\" fill=\"#4c78a8\"/></g><g class=\"mark-rule role-mark layer_1_marks\" role=\"graphics-symbol\" aria-roledescription=\"rule mark container\"><line transform=\"translate(193.46153846153845,0)\" x2=\"0\" y2=\"300\" stroke=\"red\"/></g><g class=\"mark-group role-legend\" role=\"graphics-symbol\" aria-roledescription=\"legend\" aria-label=\"Symbol legend titled 'NCT number' for fill color with 2 values: false, true\"><g transform=\"translate(518,0)\"><path class=\"background\" aria-hidden=\"true\" d=\"M0,0h66v40h-66Z\" pointer-events=\"none\"/><g><g class=\"mark-group role-legend-entry\"><g transform=\"translate(0,16)\"><path class=\"background\" aria-hidden=\"true\" d=\"M0,0h0v0h0Z\" pointer-events=\"none\"/><g><g class=\"mark-group role-scope\" role=\"graphics-object\" aria-roledescription=\"group mark container\"><g transform=\"translate(0,0)\"><path class=\"background\" aria-hidden=\"true\" d=\"M0,0h37.123046875v11h-37.123046875Z\" pointer-events=\"none\" opacity=\"1\"/><g><g class=\"mark-symbol role-legend-symbol\" pointer-events=\"none\"><path transform=\"translate(6,6)\" d=\"M-5,-5h10v10h-10Z\" fill=\"#4c78a8\" stroke-width=\"1.5\" opacity=\"1\"/></g><g class=\"mark-text role-legend-label\" pointer-events=\"none\"><text text-anchor=\"start\" transform=\"translate(16,9)\" font-family=\"sans-serif\" font-size=\"10px\" fill=\"#000\" opacity=\"1\">false</text></g></g><path class=\"foreground\" aria-hidden=\"true\" d=\"\" pointer-events=\"none\" display=\"none\"/></g><g transform=\"translate(0,13)\"><path class=\"background\" aria-hidden=\"true\" d=\"M0,0h37.123046875v11h-37.123046875Z\" pointer-events=\"none\" opacity=\"1\"/><g><g class=\"mark-symbol role-legend-symbol\" pointer-events=\"none\"><path transform=\"translate(6,6)\" d=\"M-5,-5h10v10h-10Z\" fill=\"#f58518\" stroke-width=\"1.5\" opacity=\"1\"/></g><g class=\"mark-text role-legend-label\" pointer-events=\"none\"><text text-anchor=\"start\" transform=\"translate(16,9)\" font-family=\"sans-serif\" font-size=\"10px\" fill=\"#000\" opacity=\"1\">true</text></g></g><path class=\"foreground\" aria-hidden=\"true\" d=\"\" pointer-events=\"none\" display=\"none\"/></g></g></g><path class=\"foreground\" aria-hidden=\"true\" d=\"\" pointer-events=\"none\" display=\"none\"/></g></g><g class=\"mark-text role-legend-title\" pointer-events=\"none\"><text text-anchor=\"start\" transform=\"translate(0,9)\" font-family=\"sans-serif\" font-size=\"11px\" font-weight=\"bold\" fill=\"#000\" opacity=\"1\">NCT number</text></g></g><path class=\"foreground\" aria-hidden=\"true\" d=\"\" pointer-events=\"none\" display=\"none\"/></g></g></g><path class=\"foreground\" aria-hidden=\"true\" d=\"\" display=\"none\"/></g></g></g></svg>"
      ],
      "text/plain": [
       "alt.LayerChart(...)"
      ]
     },
     "execution_count": 6,
     "metadata": {},
     "output_type": "execute_result"
    }
   ],
   "source": [
    "mydata = (pd\n",
    "        .concat([completed, df['clinical_trials_id']!=''], axis=1)\n",
    "        .rename(columns={0:'Completed fields','clinical_trials_id':'NCT number'})\n",
    "       )\n",
    "plot = alt.Chart(mydata).mark_bar().encode(\n",
    "    alt.X('Completed fields:Q', scale=alt.Scale(domain=[0, 52], nice=False)),\n",
    "    y='count()',\n",
    "    color='NCT number:N',\n",
    "    tooltip='count()'\n",
    ").properties(\n",
    "    height=300,\n",
    "    width=500\n",
    ")\n",
    "line = alt.Chart().mark_rule(color='red').encode(x=alt.datum(20))\n",
    "plot + line"
   ]
  }
 ],
 "metadata": {
  "kernelspec": {
   "display_name": "Python 3 (ipykernel)",
   "language": "python",
   "name": "python3"
  },
  "language_info": {
   "codemirror_mode": {
    "name": "ipython",
    "version": 3
   },
   "file_extension": ".py",
   "mimetype": "text/x-python",
   "name": "python",
   "nbconvert_exporter": "python",
   "pygments_lexer": "ipython3",
   "version": "3.11.2"
  }
 },
 "nbformat": 4,
 "nbformat_minor": 5
}
