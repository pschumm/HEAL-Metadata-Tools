{
 "cells": [
  {
   "cell_type": "markdown",
   "id": "2d2b7228-6fdc-40df-a657-5cf7f59aaed1",
   "metadata": {},
   "source": [
    "# Retrieve and Inspect Study Level Metadata from HEAL Platform"
   ]
  },
  {
   "cell_type": "code",
   "execution_count": 1,
   "id": "ce117d7d-2316-49f2-9558-c0c9c11dacbc",
   "metadata": {},
   "outputs": [],
   "source": [
    "import numpy as np\n",
    "import pandas as pd\n",
    "import altair as alt\n",
    "alt.renderers.enable('svg')\n",
    "from functions import get_slmd, get_heal_slmd_fields"
   ]
  },
  {
   "cell_type": "markdown",
   "id": "7db5257a-8ba1-41ee-80a2-9c91e2858657",
   "metadata": {},
   "source": [
    "Start with data frame containing all HEAL SLMD fields that currently appear in CEDAR."
   ]
  },
  {
   "cell_type": "code",
   "execution_count": 2,
   "id": "6016ad2b-3d2e-4950-a7f0-5b7eed38bb75",
   "metadata": {
    "tags": []
   },
   "outputs": [],
   "source": [
    "df = get_slmd()\n",
    "not_in_cedar = [c for c in df.columns.values.tolist() if\n",
    "                c.split('.')[0] in ['citation','contacts_and_registrants','findings']]\n",
    "heal_slmd = (df\n",
    "    .loc[:,get_heal_slmd_fields()]\n",
    "    .drop(columns=not_in_cedar)\n",
    "    .applymap(lambda x: np.nan if not x else x)\n",
    ")"
   ]
  },
  {
   "cell_type": "markdown",
   "id": "cbcce1d7-486d-40a8-89ae-71452944cf68",
   "metadata": {},
   "source": [
    "Identify and remove those columns which are prefilled (i.e., never missing)."
   ]
  },
  {
   "cell_type": "code",
   "execution_count": 3,
   "id": "e0e25759-ddb6-4280-b4c8-0135657b6936",
   "metadata": {},
   "outputs": [
    {
     "data": {
      "text/plain": [
       "['minimal_info.study_name',\n",
       " 'metadata_location.nih_application_id',\n",
       " 'metadata_location.cedar_study_level_metadata_template_instance_ID']"
      ]
     },
     "execution_count": 3,
     "metadata": {},
     "output_type": "execute_result"
    }
   ],
   "source": [
    "prefilled = heal_slmd.columns[heal_slmd.isna().any() == False].values.tolist()\n",
    "prefilled"
   ]
  },
  {
   "cell_type": "code",
   "execution_count": 4,
   "id": "49a8663d-029e-4c57-8bd4-73282c07e4f0",
   "metadata": {},
   "outputs": [
    {
     "data": {
      "text/plain": [
       "(214, 52)"
      ]
     },
     "execution_count": 4,
     "metadata": {},
     "output_type": "execute_result"
    }
   ],
   "source": [
    "heal_slmd = heal_slmd.drop(columns=prefilled)\n",
    "heal_slmd.shape"
   ]
  },
  {
   "cell_type": "markdown",
   "id": "c7656d83-da5d-400e-845b-6e5dd9baa682",
   "metadata": {},
   "source": [
    "Now, examine distribution of the number of completed fields."
   ]
  },
  {
   "cell_type": "code",
   "execution_count": 5,
   "id": "999fa171-6c46-409b-ad2a-77098b71a88f",
   "metadata": {},
   "outputs": [
    {
     "data": {
      "text/plain": [
       "count    214.000000\n",
       "mean      13.056075\n",
       "std       12.971498\n",
       "min        1.000000\n",
       "25%        2.000000\n",
       "50%        9.000000\n",
       "75%       20.000000\n",
       "max       44.000000\n",
       "dtype: float64"
      ]
     },
     "execution_count": 5,
     "metadata": {},
     "output_type": "execute_result"
    }
   ],
   "source": [
    "completed = heal_slmd.notna().sum(axis=1)\n",
    "completed.describe()"
   ]
  },
  {
   "cell_type": "code",
   "execution_count": 6,
   "id": "05bba283-c3fd-451c-b925-b25c364e17e5",
   "metadata": {},
   "outputs": [
    {
     "data": {
      "image/svg+xml": [
       "<svg xmlns=\"http://www.w3.org/2000/svg\" xmlns:xlink=\"http://www.w3.org/1999/xlink\" version=\"1.1\" class=\"marks\" width=\"529\" height=\"347\" viewBox=\"0 0 529 347\"><rect width=\"529\" height=\"347\" fill=\"white\"/><g fill=\"none\" stroke-miterlimit=\"10\" transform=\"translate(39,10)\"><g class=\"mark-group role-frame root\" role=\"graphics-object\" aria-roledescription=\"group mark container\"><g transform=\"translate(0,0)\"><path class=\"background\" aria-hidden=\"true\" d=\"M0.5,0.5h400v300h-400Z\" stroke=\"#ddd\"/><g><g class=\"mark-group role-axis\" aria-hidden=\"true\"><g transform=\"translate(0.5,300.5)\"><path class=\"background\" aria-hidden=\"true\" d=\"M0,0h0v0h0Z\" pointer-events=\"none\"/><g><g class=\"mark-rule role-axis-grid\" pointer-events=\"none\"><line transform=\"translate(5,-300)\" x2=\"0\" y2=\"300\" stroke=\"#ddd\" stroke-width=\"1\" opacity=\"1\"/><line transform=\"translate(42,-300)\" x2=\"0\" y2=\"300\" stroke=\"#ddd\" stroke-width=\"1\" opacity=\"1\"/><line transform=\"translate(80,-300)\" x2=\"0\" y2=\"300\" stroke=\"#ddd\" stroke-width=\"1\" opacity=\"1\"/><line transform=\"translate(117,-300)\" x2=\"0\" y2=\"300\" stroke=\"#ddd\" stroke-width=\"1\" opacity=\"1\"/><line transform=\"translate(155,-300)\" x2=\"0\" y2=\"300\" stroke=\"#ddd\" stroke-width=\"1\" opacity=\"1\"/><line transform=\"translate(193,-300)\" x2=\"0\" y2=\"300\" stroke=\"#ddd\" stroke-width=\"1\" opacity=\"1\"/><line transform=\"translate(230,-300)\" x2=\"0\" y2=\"300\" stroke=\"#ddd\" stroke-width=\"1\" opacity=\"1\"/><line transform=\"translate(268,-300)\" x2=\"0\" y2=\"300\" stroke=\"#ddd\" stroke-width=\"1\" opacity=\"1\"/><line transform=\"translate(305,-300)\" x2=\"0\" y2=\"300\" stroke=\"#ddd\" stroke-width=\"1\" opacity=\"1\"/><line transform=\"translate(343,-300)\" x2=\"0\" y2=\"300\" stroke=\"#ddd\" stroke-width=\"1\" opacity=\"1\"/><line transform=\"translate(380,-300)\" x2=\"0\" y2=\"300\" stroke=\"#ddd\" stroke-width=\"1\" opacity=\"1\"/></g></g><path class=\"foreground\" aria-hidden=\"true\" d=\"\" pointer-events=\"none\" display=\"none\"/></g></g><g class=\"mark-group role-axis\" aria-hidden=\"true\"><g transform=\"translate(0.5,0.5)\"><path class=\"background\" aria-hidden=\"true\" d=\"M0,0h0v0h0Z\" pointer-events=\"none\"/><g><g class=\"mark-rule role-axis-grid\" pointer-events=\"none\"><line transform=\"translate(0,300)\" x2=\"400\" y2=\"0\" stroke=\"#ddd\" stroke-width=\"1\" opacity=\"1\"/><line transform=\"translate(0,263)\" x2=\"400\" y2=\"0\" stroke=\"#ddd\" stroke-width=\"1\" opacity=\"1\"/><line transform=\"translate(0,225)\" x2=\"400\" y2=\"0\" stroke=\"#ddd\" stroke-width=\"1\" opacity=\"1\"/><line transform=\"translate(0,188)\" x2=\"400\" y2=\"0\" stroke=\"#ddd\" stroke-width=\"1\" opacity=\"1\"/><line transform=\"translate(0,150)\" x2=\"400\" y2=\"0\" stroke=\"#ddd\" stroke-width=\"1\" opacity=\"1\"/><line transform=\"translate(0,113)\" x2=\"400\" y2=\"0\" stroke=\"#ddd\" stroke-width=\"1\" opacity=\"1\"/><line transform=\"translate(0,75)\" x2=\"400\" y2=\"0\" stroke=\"#ddd\" stroke-width=\"1\" opacity=\"1\"/><line transform=\"translate(0,38)\" x2=\"400\" y2=\"0\" stroke=\"#ddd\" stroke-width=\"1\" opacity=\"1\"/><line transform=\"translate(0,0)\" x2=\"400\" y2=\"0\" stroke=\"#ddd\" stroke-width=\"1\" opacity=\"1\"/></g></g><path class=\"foreground\" aria-hidden=\"true\" d=\"\" pointer-events=\"none\" display=\"none\"/></g></g><g class=\"mark-group role-axis\" role=\"graphics-symbol\" aria-roledescription=\"axis\" aria-label=\"X-axis titled 'Completed fields' for a linear scale with values from −1 to 53\"><g transform=\"translate(0.5,300.5)\"><path class=\"background\" aria-hidden=\"true\" d=\"M0,0h0v0h0Z\" pointer-events=\"none\"/><g><g class=\"mark-rule role-axis-tick\" pointer-events=\"none\"><line transform=\"translate(5,0)\" x2=\"0\" y2=\"5\" stroke=\"#888\" stroke-width=\"1\" opacity=\"1\"/><line transform=\"translate(42,0)\" x2=\"0\" y2=\"5\" stroke=\"#888\" stroke-width=\"1\" opacity=\"1\"/><line transform=\"translate(80,0)\" x2=\"0\" y2=\"5\" stroke=\"#888\" stroke-width=\"1\" opacity=\"1\"/><line transform=\"translate(117,0)\" x2=\"0\" y2=\"5\" stroke=\"#888\" stroke-width=\"1\" opacity=\"1\"/><line transform=\"translate(155,0)\" x2=\"0\" y2=\"5\" stroke=\"#888\" stroke-width=\"1\" opacity=\"1\"/><line transform=\"translate(193,0)\" x2=\"0\" y2=\"5\" stroke=\"#888\" stroke-width=\"1\" opacity=\"1\"/><line transform=\"translate(230,0)\" x2=\"0\" y2=\"5\" stroke=\"#888\" stroke-width=\"1\" opacity=\"1\"/><line transform=\"translate(268,0)\" x2=\"0\" y2=\"5\" stroke=\"#888\" stroke-width=\"1\" opacity=\"1\"/><line transform=\"translate(305,0)\" x2=\"0\" y2=\"5\" stroke=\"#888\" stroke-width=\"1\" opacity=\"1\"/><line transform=\"translate(343,0)\" x2=\"0\" y2=\"5\" stroke=\"#888\" stroke-width=\"1\" opacity=\"1\"/><line transform=\"translate(380,0)\" x2=\"0\" y2=\"5\" stroke=\"#888\" stroke-width=\"1\" opacity=\"1\"/></g><g class=\"mark-text role-axis-label\" pointer-events=\"none\"><text text-anchor=\"middle\" transform=\"translate(4.999999999999983,15)\" font-family=\"sans-serif\" font-size=\"10px\" fill=\"#000\" opacity=\"1\">0</text><text text-anchor=\"middle\" transform=\"translate(42.499999999999986,15)\" font-family=\"sans-serif\" font-size=\"10px\" fill=\"#000\" opacity=\"1\">5</text><text text-anchor=\"middle\" transform=\"translate(80,15)\" font-family=\"sans-serif\" font-size=\"10px\" fill=\"#000\" opacity=\"1\">10</text><text text-anchor=\"middle\" transform=\"translate(117.49999999999999,15)\" font-family=\"sans-serif\" font-size=\"10px\" fill=\"#000\" opacity=\"1\">15</text><text text-anchor=\"middle\" transform=\"translate(155,15)\" font-family=\"sans-serif\" font-size=\"10px\" fill=\"#000\" opacity=\"1\">20</text><text text-anchor=\"middle\" transform=\"translate(192.5,15)\" font-family=\"sans-serif\" font-size=\"10px\" fill=\"#000\" opacity=\"1\">25</text><text text-anchor=\"middle\" transform=\"translate(229.99999999999997,15)\" font-family=\"sans-serif\" font-size=\"10px\" fill=\"#000\" opacity=\"1\">30</text><text text-anchor=\"middle\" transform=\"translate(267.5,15)\" font-family=\"sans-serif\" font-size=\"10px\" fill=\"#000\" opacity=\"1\">35</text><text text-anchor=\"middle\" transform=\"translate(305,15)\" font-family=\"sans-serif\" font-size=\"10px\" fill=\"#000\" opacity=\"1\">40</text><text text-anchor=\"middle\" transform=\"translate(342.5,15)\" font-family=\"sans-serif\" font-size=\"10px\" fill=\"#000\" opacity=\"1\">45</text><text text-anchor=\"middle\" transform=\"translate(380,15)\" font-family=\"sans-serif\" font-size=\"10px\" fill=\"#000\" opacity=\"1\">50</text></g><g class=\"mark-rule role-axis-domain\" pointer-events=\"none\"><line transform=\"translate(0,0)\" x2=\"400\" y2=\"0\" stroke=\"#888\" stroke-width=\"1\" opacity=\"1\"/></g><g class=\"mark-text role-axis-title\" pointer-events=\"none\"><text text-anchor=\"middle\" transform=\"translate(200,30)\" font-family=\"sans-serif\" font-size=\"11px\" font-weight=\"bold\" fill=\"#000\" opacity=\"1\">Completed fields</text></g></g><path class=\"foreground\" aria-hidden=\"true\" d=\"\" pointer-events=\"none\" display=\"none\"/></g></g><g class=\"mark-group role-axis\" role=\"graphics-symbol\" aria-roledescription=\"axis\" aria-label=\"Y-axis titled 'Count of Records' for a linear scale with values from 0 to 80\"><g transform=\"translate(0.5,0.5)\"><path class=\"background\" aria-hidden=\"true\" d=\"M0,0h0v0h0Z\" pointer-events=\"none\"/><g><g class=\"mark-rule role-axis-tick\" pointer-events=\"none\"><line transform=\"translate(0,300)\" x2=\"-5\" y2=\"0\" stroke=\"#888\" stroke-width=\"1\" opacity=\"1\"/><line transform=\"translate(0,263)\" x2=\"-5\" y2=\"0\" stroke=\"#888\" stroke-width=\"1\" opacity=\"1\"/><line transform=\"translate(0,225)\" x2=\"-5\" y2=\"0\" stroke=\"#888\" stroke-width=\"1\" opacity=\"1\"/><line transform=\"translate(0,188)\" x2=\"-5\" y2=\"0\" stroke=\"#888\" stroke-width=\"1\" opacity=\"1\"/><line transform=\"translate(0,150)\" x2=\"-5\" y2=\"0\" stroke=\"#888\" stroke-width=\"1\" opacity=\"1\"/><line transform=\"translate(0,113)\" x2=\"-5\" y2=\"0\" stroke=\"#888\" stroke-width=\"1\" opacity=\"1\"/><line transform=\"translate(0,75)\" x2=\"-5\" y2=\"0\" stroke=\"#888\" stroke-width=\"1\" opacity=\"1\"/><line transform=\"translate(0,38)\" x2=\"-5\" y2=\"0\" stroke=\"#888\" stroke-width=\"1\" opacity=\"1\"/><line transform=\"translate(0,0)\" x2=\"-5\" y2=\"0\" stroke=\"#888\" stroke-width=\"1\" opacity=\"1\"/></g><g class=\"mark-text role-axis-label\" pointer-events=\"none\"><text text-anchor=\"end\" transform=\"translate(-7,303)\" font-family=\"sans-serif\" font-size=\"10px\" fill=\"#000\" opacity=\"1\">0</text><text text-anchor=\"end\" transform=\"translate(-7,265.5)\" font-family=\"sans-serif\" font-size=\"10px\" fill=\"#000\" opacity=\"1\">10</text><text text-anchor=\"end\" transform=\"translate(-7,228)\" font-family=\"sans-serif\" font-size=\"10px\" fill=\"#000\" opacity=\"1\">20</text><text text-anchor=\"end\" transform=\"translate(-7,190.5)\" font-family=\"sans-serif\" font-size=\"10px\" fill=\"#000\" opacity=\"1\">30</text><text text-anchor=\"end\" transform=\"translate(-7,153)\" font-family=\"sans-serif\" font-size=\"10px\" fill=\"#000\" opacity=\"1\">40</text><text text-anchor=\"end\" transform=\"translate(-7,115.5)\" font-family=\"sans-serif\" font-size=\"10px\" fill=\"#000\" opacity=\"1\">50</text><text text-anchor=\"end\" transform=\"translate(-7,78)\" font-family=\"sans-serif\" font-size=\"10px\" fill=\"#000\" opacity=\"1\">60</text><text text-anchor=\"end\" transform=\"translate(-7,40.5)\" font-family=\"sans-serif\" font-size=\"10px\" fill=\"#000\" opacity=\"1\">70</text><text text-anchor=\"end\" transform=\"translate(-7,3)\" font-family=\"sans-serif\" font-size=\"10px\" fill=\"#000\" opacity=\"1\">80</text></g><g class=\"mark-rule role-axis-domain\" pointer-events=\"none\"><line transform=\"translate(0,300)\" x2=\"0\" y2=\"-300\" stroke=\"#888\" stroke-width=\"1\" opacity=\"1\"/></g><g class=\"mark-text role-axis-title\" pointer-events=\"none\"><text text-anchor=\"middle\" transform=\"translate(-23,150) rotate(-90) translate(0,-2)\" font-family=\"sans-serif\" font-size=\"11px\" font-weight=\"bold\" fill=\"#000\" opacity=\"1\">Count of Records</text></g></g><path class=\"foreground\" aria-hidden=\"true\" d=\"\" pointer-events=\"none\" display=\"none\"/></g></g><g class=\"mark-rect role-mark layer_0_marks\" role=\"graphics-object\" aria-roledescription=\"rect mark container\"><path aria-label=\"Completed fields: 36; Count of Records: 4; NCT number: true\" role=\"graphics-symbol\" aria-roledescription=\"bar\" d=\"M272.5,285h5v15h-5Z\" fill=\"#f58518\"/><path aria-label=\"Completed fields: 2; Count of Records: 77; NCT number: false\" role=\"graphics-symbol\" aria-roledescription=\"bar\" d=\"M17.499999999999986,11.249999999999993h5v288.75h-5Z\" fill=\"#4c78a8\"/><path aria-label=\"Completed fields: 31; Count of Records: 2; NCT number: false\" role=\"graphics-symbol\" aria-roledescription=\"bar\" d=\"M235,292.5h5v7.5h-5Z\" fill=\"#4c78a8\"/><path aria-label=\"Completed fields: 1; Count of Records: 4; NCT number: false\" role=\"graphics-symbol\" aria-roledescription=\"bar\" d=\"M9.999999999999984,285h5v15h-5Z\" fill=\"#4c78a8\"/><path aria-label=\"Completed fields: 9; Count of Records: 16; NCT number: true\" role=\"graphics-symbol\" aria-roledescription=\"bar\" d=\"M69.99999999999999,240h5v60h-5Z\" fill=\"#f58518\"/><path aria-label=\"Completed fields: 10; Count of Records: 11; NCT number: true\" role=\"graphics-symbol\" aria-roledescription=\"bar\" d=\"M77.5,258.75h5v41.25h-5Z\" fill=\"#f58518\"/><path aria-label=\"Completed fields: 8; Count of Records: 2; NCT number: false\" role=\"graphics-symbol\" aria-roledescription=\"bar\" d=\"M62.499999999999986,281.25h5v7.5h-5Z\" fill=\"#4c78a8\"/><path aria-label=\"Completed fields: 7; Count of Records: 1; NCT number: false\" role=\"graphics-symbol\" aria-roledescription=\"bar\" d=\"M54.999999999999986,296.25h5v3.75h-5Z\" fill=\"#4c78a8\"/><path aria-label=\"Completed fields: 23; Count of Records: 2; NCT number: false\" role=\"graphics-symbol\" aria-roledescription=\"bar\" d=\"M175,292.5h5v7.5h-5Z\" fill=\"#4c78a8\"/><path aria-label=\"Completed fields: 39; Count of Records: 1; NCT number: true\" role=\"graphics-symbol\" aria-roledescription=\"bar\" d=\"M295,296.25h5v3.75h-5Z\" fill=\"#f58518\"/><path aria-label=\"Completed fields: 3; Count of Records: 12; NCT number: false\" role=\"graphics-symbol\" aria-roledescription=\"bar\" d=\"M24.999999999999986,255h5v45h-5Z\" fill=\"#4c78a8\"/><path aria-label=\"Completed fields: 34; Count of Records: 3; NCT number: true\" role=\"graphics-symbol\" aria-roledescription=\"bar\" d=\"M257.5,288.75h5v11.25h-5Z\" fill=\"#f58518\"/><path aria-label=\"Completed fields: 25; Count of Records: 2; NCT number: false\" role=\"graphics-symbol\" aria-roledescription=\"bar\" d=\"M190,292.5h5v7.5h-5Z\" fill=\"#4c78a8\"/><path aria-label=\"Completed fields: 14; Count of Records: 3; NCT number: true\" role=\"graphics-symbol\" aria-roledescription=\"bar\" d=\"M107.49999999999999,288.75h5v11.25h-5Z\" fill=\"#f58518\"/><path aria-label=\"Completed fields: 26; Count of Records: 2; NCT number: false\" role=\"graphics-symbol\" aria-roledescription=\"bar\" d=\"M197.5,292.5h5v7.5h-5Z\" fill=\"#4c78a8\"/><path aria-label=\"Completed fields: 8; Count of Records: 3; NCT number: true\" role=\"graphics-symbol\" aria-roledescription=\"bar\" d=\"M62.499999999999986,288.75h5v11.25h-5Z\" fill=\"#f58518\"/><path aria-label=\"Completed fields: 15; Count of Records: 4; NCT number: true\" role=\"graphics-symbol\" aria-roledescription=\"bar\" d=\"M114.99999999999999,285h5v15h-5Z\" fill=\"#f58518\"/><path aria-label=\"Completed fields: 11; Count of Records: 4; NCT number: true\" role=\"graphics-symbol\" aria-roledescription=\"bar\" d=\"M84.99999999999999,285h5v15h-5Z\" fill=\"#f58518\"/><path aria-label=\"Completed fields: 12; Count of Records: 2; NCT number: false\" role=\"graphics-symbol\" aria-roledescription=\"bar\" d=\"M92.5,292.5h5v7.5h-5Z\" fill=\"#4c78a8\"/><path aria-label=\"Completed fields: 19; Count of Records: 4; NCT number: true\" role=\"graphics-symbol\" aria-roledescription=\"bar\" d=\"M145,285h5v15h-5Z\" fill=\"#f58518\"/><path aria-label=\"Completed fields: 33; Count of Records: 3; NCT number: false\" role=\"graphics-symbol\" aria-roledescription=\"bar\" d=\"M250,285h5v11.25h-5Z\" fill=\"#4c78a8\"/><path aria-label=\"Completed fields: 37; Count of Records: 3; NCT number: true\" role=\"graphics-symbol\" aria-roledescription=\"bar\" d=\"M280,288.75h5v11.25h-5Z\" fill=\"#f58518\"/><path aria-label=\"Completed fields: 16; Count of Records: 3; NCT number: true\" role=\"graphics-symbol\" aria-roledescription=\"bar\" d=\"M122.5,288.75h5v11.25h-5Z\" fill=\"#f58518\"/><path aria-label=\"Completed fields: 29; Count of Records: 3; NCT number: false\" role=\"graphics-symbol\" aria-roledescription=\"bar\" d=\"M220,288.75h5v11.25h-5Z\" fill=\"#4c78a8\"/><path aria-label=\"Completed fields: 28; Count of Records: 1; NCT number: false\" role=\"graphics-symbol\" aria-roledescription=\"bar\" d=\"M212.5,296.25h5v3.75h-5Z\" fill=\"#4c78a8\"/><path aria-label=\"Completed fields: 37; Count of Records: 1; NCT number: false\" role=\"graphics-symbol\" aria-roledescription=\"bar\" d=\"M280,285h5v3.75h-5Z\" fill=\"#4c78a8\"/><path aria-label=\"Completed fields: 35; Count of Records: 1; NCT number: false\" role=\"graphics-symbol\" aria-roledescription=\"bar\" d=\"M265,292.5h5v3.75h-5Z\" fill=\"#4c78a8\"/><path aria-label=\"Completed fields: 20; Count of Records: 3; NCT number: false\" role=\"graphics-symbol\" aria-roledescription=\"bar\" d=\"M152.5,281.25h5v11.25h-5Z\" fill=\"#4c78a8\"/><path aria-label=\"Completed fields: 41; Count of Records: 1; NCT number: false\" role=\"graphics-symbol\" aria-roledescription=\"bar\" d=\"M310,292.5h5v3.75h-5Z\" fill=\"#4c78a8\"/><path aria-label=\"Completed fields: 42; Count of Records: 1; NCT number: false\" role=\"graphics-symbol\" aria-roledescription=\"bar\" d=\"M317.5,288.75h5v3.75h-5Z\" fill=\"#4c78a8\"/><path aria-label=\"Completed fields: 36; Count of Records: 1; NCT number: false\" role=\"graphics-symbol\" aria-roledescription=\"bar\" d=\"M272.5,281.25h5v3.75h-5Z\" fill=\"#4c78a8\"/><path aria-label=\"Completed fields: 21; Count of Records: 1; NCT number: false\" role=\"graphics-symbol\" aria-roledescription=\"bar\" d=\"M160,296.25h5v3.75h-5Z\" fill=\"#4c78a8\"/><path aria-label=\"Completed fields: 14; Count of Records: 1; NCT number: false\" role=\"graphics-symbol\" aria-roledescription=\"bar\" d=\"M107.49999999999999,285h5v3.75h-5Z\" fill=\"#4c78a8\"/><path aria-label=\"Completed fields: 18; Count of Records: 5; NCT number: true\" role=\"graphics-symbol\" aria-roledescription=\"bar\" d=\"M137.5,281.25h5v18.75h-5Z\" fill=\"#f58518\"/><path aria-label=\"Completed fields: 30; Count of Records: 2; NCT number: false\" role=\"graphics-symbol\" aria-roledescription=\"bar\" d=\"M227.49999999999997,292.5h5v7.5h-5Z\" fill=\"#4c78a8\"/><path aria-label=\"Completed fields: 32; Count of Records: 1; NCT number: true\" role=\"graphics-symbol\" aria-roledescription=\"bar\" d=\"M242.50000000000003,296.25h5v3.75h-5Z\" fill=\"#f58518\"/><path aria-label=\"Completed fields: 24; Count of Records: 2; NCT number: false\" role=\"graphics-symbol\" aria-roledescription=\"bar\" d=\"M182.5,292.5h5v7.5h-5Z\" fill=\"#4c78a8\"/><path aria-label=\"Completed fields: 4; Count of Records: 1; NCT number: false\" role=\"graphics-symbol\" aria-roledescription=\"bar\" d=\"M32.499999999999986,296.25h5v3.75h-5Z\" fill=\"#4c78a8\"/><path aria-label=\"Completed fields: 44; Count of Records: 1; NCT number: true\" role=\"graphics-symbol\" aria-roledescription=\"bar\" d=\"M332.5,296.25h5v3.75h-5Z\" fill=\"#f58518\"/><path aria-label=\"Completed fields: 43; Count of Records: 2; NCT number: true\" role=\"graphics-symbol\" aria-roledescription=\"bar\" d=\"M325,292.5h5v7.5h-5Z\" fill=\"#f58518\"/><path aria-label=\"Completed fields: 17; Count of Records: 2; NCT number: true\" role=\"graphics-symbol\" aria-roledescription=\"bar\" d=\"M130,292.5h5v7.5h-5Z\" fill=\"#f58518\"/><path aria-label=\"Completed fields: 20; Count of Records: 2; NCT number: true\" role=\"graphics-symbol\" aria-roledescription=\"bar\" d=\"M152.5,292.5h5v7.5h-5Z\" fill=\"#f58518\"/><path aria-label=\"Completed fields: 16; Count of Records: 1; NCT number: false\" role=\"graphics-symbol\" aria-roledescription=\"bar\" d=\"M122.5,285h5v3.75h-5Z\" fill=\"#4c78a8\"/><path aria-label=\"Completed fields: 17; Count of Records: 1; NCT number: false\" role=\"graphics-symbol\" aria-roledescription=\"bar\" d=\"M130,288.75h5v3.75h-5Z\" fill=\"#4c78a8\"/><path aria-label=\"Completed fields: 35; Count of Records: 1; NCT number: true\" role=\"graphics-symbol\" aria-roledescription=\"bar\" d=\"M265,296.25h5v3.75h-5Z\" fill=\"#f58518\"/><path aria-label=\"Completed fields: 40; Count of Records: 2; NCT number: true\" role=\"graphics-symbol\" aria-roledescription=\"bar\" d=\"M302.5,292.5h5v7.5h-5Z\" fill=\"#f58518\"/><path aria-label=\"Completed fields: 42; Count of Records: 2; NCT number: true\" role=\"graphics-symbol\" aria-roledescription=\"bar\" d=\"M317.5,292.5h5v7.5h-5Z\" fill=\"#f58518\"/><path aria-label=\"Completed fields: 33; Count of Records: 1; NCT number: true\" role=\"graphics-symbol\" aria-roledescription=\"bar\" d=\"M250,296.25h5v3.75h-5Z\" fill=\"#f58518\"/><path aria-label=\"Completed fields: 38; Count of Records: 2; NCT number: true\" role=\"graphics-symbol\" aria-roledescription=\"bar\" d=\"M287.5,292.5h5v7.5h-5Z\" fill=\"#f58518\"/><path aria-label=\"Completed fields: 32; Count of Records: 2; NCT number: false\" role=\"graphics-symbol\" aria-roledescription=\"bar\" d=\"M242.50000000000003,288.75h5v7.5h-5Z\" fill=\"#4c78a8\"/><path aria-label=\"Completed fields: 15; Count of Records: 1; NCT number: false\" role=\"graphics-symbol\" aria-roledescription=\"bar\" d=\"M114.99999999999999,281.25h5v3.75h-5Z\" fill=\"#4c78a8\"/><path aria-label=\"Completed fields: 41; Count of Records: 1; NCT number: true\" role=\"graphics-symbol\" aria-roledescription=\"bar\" d=\"M310,296.25h5v3.75h-5Z\" fill=\"#f58518\"/></g><g class=\"mark-rule role-mark layer_1_marks\" role=\"graphics-symbol\" aria-roledescription=\"rule mark container\"><line transform=\"translate(155,0)\" x2=\"0\" y2=\"300\" stroke=\"red\"/></g><g class=\"mark-group role-legend\" role=\"graphics-symbol\" aria-roledescription=\"legend\" aria-label=\"Symbol legend titled 'NCT number' for fill color with 2 values: false, true\"><g transform=\"translate(418,0)\"><path class=\"background\" aria-hidden=\"true\" d=\"M0,0h67v40h-67Z\" pointer-events=\"none\"/><g><g class=\"mark-group role-legend-entry\"><g transform=\"translate(0,16)\"><path class=\"background\" aria-hidden=\"true\" d=\"M0,0h0v0h0Z\" pointer-events=\"none\"/><g><g class=\"mark-group role-scope\" role=\"graphics-object\" aria-roledescription=\"group mark container\"><g transform=\"translate(0,0)\"><path class=\"background\" aria-hidden=\"true\" d=\"M0,0h38v11h-38Z\" pointer-events=\"none\" opacity=\"1\"/><g><g class=\"mark-symbol role-legend-symbol\" pointer-events=\"none\"><path transform=\"translate(6,6)\" d=\"M-5,-5h10v10h-10Z\" fill=\"#4c78a8\" stroke-width=\"1.5\" opacity=\"1\"/></g><g class=\"mark-text role-legend-label\" pointer-events=\"none\"><text text-anchor=\"start\" transform=\"translate(16,9)\" font-family=\"sans-serif\" font-size=\"10px\" fill=\"#000\" opacity=\"1\">false</text></g></g><path class=\"foreground\" aria-hidden=\"true\" d=\"\" pointer-events=\"none\" display=\"none\"/></g><g transform=\"translate(0,13)\"><path class=\"background\" aria-hidden=\"true\" d=\"M0,0h38v11h-38Z\" pointer-events=\"none\" opacity=\"1\"/><g><g class=\"mark-symbol role-legend-symbol\" pointer-events=\"none\"><path transform=\"translate(6,6)\" d=\"M-5,-5h10v10h-10Z\" fill=\"#f58518\" stroke-width=\"1.5\" opacity=\"1\"/></g><g class=\"mark-text role-legend-label\" pointer-events=\"none\"><text text-anchor=\"start\" transform=\"translate(16,9)\" font-family=\"sans-serif\" font-size=\"10px\" fill=\"#000\" opacity=\"1\">true</text></g></g><path class=\"foreground\" aria-hidden=\"true\" d=\"\" pointer-events=\"none\" display=\"none\"/></g></g></g><path class=\"foreground\" aria-hidden=\"true\" d=\"\" pointer-events=\"none\" display=\"none\"/></g></g><g class=\"mark-text role-legend-title\" pointer-events=\"none\"><text text-anchor=\"start\" transform=\"translate(0,9)\" font-family=\"sans-serif\" font-size=\"11px\" font-weight=\"bold\" fill=\"#000\" opacity=\"1\">NCT number</text></g></g><path class=\"foreground\" aria-hidden=\"true\" d=\"\" pointer-events=\"none\" display=\"none\"/></g></g></g><path class=\"foreground\" aria-hidden=\"true\" d=\"\" display=\"none\"/></g></g></g></svg>"
      ],
      "text/plain": [
       "alt.LayerChart(...)"
      ]
     },
     "execution_count": 6,
     "metadata": {},
     "output_type": "execute_result"
    }
   ],
   "source": [
    "mydata = (pd\n",
    "        .concat([completed, df['clinical_trials_id']!=''], axis=1)\n",
    "        .rename(columns={0:'Completed fields','clinical_trials_id':'NCT number'})\n",
    "       )\n",
    "plot = alt.Chart(mydata).mark_bar().encode(\n",
    "    alt.X('Completed fields:Q', scale=alt.Scale(domain=[0, 52], nice=False)),\n",
    "    y='count()',\n",
    "    color='NCT number:N',\n",
    "    tooltip='count()'\n",
    ")\n",
    "line = alt.Chart().mark_rule(color='red').encode(x=alt.datum(20))\n",
    "plot + line"
   ]
  }
 ],
 "metadata": {
  "kernelspec": {
   "display_name": "Python 3 (ipykernel)",
   "language": "python",
   "name": "python3"
  },
  "language_info": {
   "codemirror_mode": {
    "name": "ipython",
    "version": 3
   },
   "file_extension": ".py",
   "mimetype": "text/x-python",
   "name": "python",
   "nbconvert_exporter": "python",
   "pygments_lexer": "ipython3",
   "version": "3.9.6"
  }
 },
 "nbformat": 4,
 "nbformat_minor": 5
}
